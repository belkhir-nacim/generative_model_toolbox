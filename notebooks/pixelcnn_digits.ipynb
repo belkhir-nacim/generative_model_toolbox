{
  "nbformat": 4,
  "nbformat_minor": 0,
  "metadata": {
    "colab": {
      "name": "Untitled0.ipynb",
      "provenance": [],
      "collapsed_sections": []
    },
    "kernelspec": {
      "name": "python3",
      "display_name": "Python 3"
    }
  },
  "cells": [
    {
      "cell_type": "code",
      "metadata": {
        "id": "Yd765yA1-kbg",
        "colab_type": "code",
        "colab": {}
      },
      "source": [
        "import numpy as np\n",
        "from matplotlib import pyplot as plt\n",
        "import torch\n",
        "import torch.nn as nn\n",
        "from torchvision import datasets, utils\n",
        "from torch.autograd import Variable\n",
        "\n",
        "def show_as_image(binary_image, figsize=(10, 5)):\n",
        "    plt.figure(figsize=figsize)\n",
        "    plt.imshow(binary_image, cmap='gray')\n",
        "    plt.xticks([]); plt.yticks([])"
      ],
      "execution_count": 0,
      "outputs": []
    },
    {
      "cell_type": "code",
      "metadata": {
        "id": "31xRyuE8-nPE",
        "colab_type": "code",
        "colab": {
          "base_uri": "https://localhost:8080/",
          "height": 884
        },
        "outputId": "e0bfae41-7757-446c-d471-ba75794294db"
      },
      "source": [
        "def causal_mask(width, height, starting_point):\n",
        "    row_grid, col_grid = np.meshgrid(np.arange(width), np.arange(height), indexing='ij')\n",
        "    mask = np.logical_and(row_grid == starting_point[0], col_grid <= starting_point[1])\n",
        "    mask = np.logical_or( row_grid < starting_point[0], np.logical_and(row_grid == starting_point[0], col_grid <= starting_point[1]))\n",
        "    return mask\n",
        "\n",
        "def test(width, height, include_center):\n",
        "    mask = np.ones((width,height))\n",
        "    mask[width//2, height//2+include_center:] = 0\n",
        "    mask[width//2+1:] = 0\n",
        "    return 1.0*mask\n",
        "\n",
        "def conv_mask(width, height, include_center=False):\n",
        "    return 1.0 * causal_mask(width, height, starting_point=(width//2, height//2 + include_center - 1))\n",
        "\n",
        "show_as_image(test(5,5,include_center=True))\n",
        "show_as_image(conv_mask(5, 5, include_center=True))\n",
        "show_as_image(conv_mask(5, 5, include_center=False))"
      ],
      "execution_count": 25,
      "outputs": [
        {
          "output_type": "display_data",
          "data": {
            "image/png": "[encoded data removed]",
            "text/plain": [
              "<Figure size 720x360 with 1 Axes>"
            ]
          },
          "metadata": {
            "tags": []
          }
        },
        {
          "output_type": "display_data",
          "data": {
            "image/png": "[encoded data removed]",
            "text/plain": [
              "<Figure size 720x360 with 1 Axes>"
            ]
          },
          "metadata": {
            "tags": []
          }
        },
        {
          "output_type": "display_data",
          "data": {
            "image/png": "[encoded data removed]",
            "text/plain": [
              "<Figure size 720x360 with 1 Axes>"
            ]
          },
          "metadata": {
            "tags": []
          }
        }
      ]
    },
    {
      "cell_type": "code",
      "metadata": {
        "id": "RXFEIsJ3_SkM",
        "colab_type": "code",
        "colab": {
          "base_uri": "https://localhost:8080/",
          "height": 301
        },
        "outputId": "c62bfb93-4057-45e6-e8e4-44adc3b62fca"
      },
      "source": [
        "out_channels, in_channels, width, height = 2, 2, 3, 3\n",
        "conv_weights = 1 + np.arange(out_channels * in_channels * width * height).reshape((out_channels, in_channels, width, height))\n",
        "masked_weights = conv_weights * conv_mask(width, height)\n",
        "masked_weights"
      ],
      "execution_count": 76,
      "outputs": [
        {
          "output_type": "execute_result",
          "data": {
            "text/plain": [
              "array([[[[ 1.,  2.,  3.],\n",
              "         [ 4.,  0.,  0.],\n",
              "         [ 0.,  0.,  0.]],\n",
              "\n",
              "        [[10., 11., 12.],\n",
              "         [13.,  0.,  0.],\n",
              "         [ 0.,  0.,  0.]]],\n",
              "\n",
              "\n",
              "       [[[19., 20., 21.],\n",
              "         [22.,  0.,  0.],\n",
              "         [ 0.,  0.,  0.]],\n",
              "\n",
              "        [[28., 29., 30.],\n",
              "         [31.,  0.,  0.],\n",
              "         [ 0.,  0.,  0.]]]])"
            ]
          },
          "metadata": {
            "tags": []
          },
          "execution_count": 76
        }
      ]
    },
    {
      "cell_type": "code",
      "metadata": {
        "id": "7KxTqobo_iGI",
        "colab_type": "code",
        "colab": {}
      },
      "source": [
        "class MaskedConv2d(nn.Conv2d):\n",
        "    def __init__(self, mask_type, *args, **kwargs):\n",
        "        super(MaskedConv2d, self).__init__(*args, **kwargs)\n",
        "        _, n_channels, width, height = self.weight.size()\n",
        "        mask = conv_mask(width, height, include_center=mask_type=='B')\n",
        "        self.register_buffer('mask', torch.from_numpy(mask).float())\n",
        "\n",
        "    def forward(self, x):\n",
        "        self.weight.data *= self.mask\n",
        "        return super(MaskedConv2d, self).forward(x)\n",
        "\n",
        "\n",
        "class PixelCNN(nn.Module):\n",
        "    n_channels = 16\n",
        "    kernel_size = 7\n",
        "    padding = 3\n",
        "    n_pixels_out = 2 # binary 0/1 pixels\n",
        "    \n",
        "    def __init__(self, in_channels=1):\n",
        "        super(PixelCNN, self).__init__()\n",
        "        self.layers = nn.Sequential(\n",
        "            MaskedConv2d('A', in_channels=in_channels, out_channels=self.n_channels, kernel_size=self.kernel_size, padding=self.padding, bias=False), nn.BatchNorm2d(self.n_channels), nn.ReLU(True),\n",
        "            MaskedConv2d('B', self.n_channels, self.n_channels, kernel_size=self.kernel_size, padding=self.padding, bias=False), nn.BatchNorm2d(self.n_channels), nn.ReLU(True),\n",
        "            MaskedConv2d('B', self.n_channels, self.n_channels, kernel_size=self.kernel_size, padding=self.padding, bias=False), nn.BatchNorm2d(self.n_channels), nn.ReLU(True),\n",
        "            nn.Conv2d(in_channels=self.n_channels, out_channels=self.n_pixels_out, kernel_size=1)\n",
        "        )\n",
        "        \n",
        "    def forward(self, x):\n",
        "        pixel_logits = self.layers(x)\n",
        "        return pixel_logits"
      ],
      "execution_count": 0,
      "outputs": []
    },
    {
      "cell_type": "code",
      "metadata": {
        "id": "sU71642jM3cZ",
        "colab_type": "code",
        "colab": {
          "base_uri": "https://localhost:8080/",
          "height": 306
        },
        "outputId": "5e4a9e10-63c0-4c6f-eba1-48893f115a14"
      },
      "source": [
        "CELL_LENGTH = 4\n",
        "IMAGE_WIDTH, IMAGE_HEIGHT = 2 * CELL_LENGTH + 5, CELL_LENGTH + 4\n",
        "\n",
        "def vertical_stroke(rightness, downness):\n",
        "    \"\"\"\n",
        "    Return a 2d numpy array representing an image with a single vertical stroke in it.\n",
        "    `rightness` and `downness` are values from [0, 1] and define the position of the vertical stroke.\n",
        "    \"\"\"\n",
        "    i = (downness * (CELL_LENGTH + 1)) + 2\n",
        "    j = rightness * (CELL_LENGTH + 1) + 1\n",
        "    x = np.zeros(shape=(IMAGE_WIDTH, IMAGE_HEIGHT), dtype=np.float64)\n",
        "    x[i + np.arange(CELL_LENGTH), j] = 1.\n",
        "    return x\n",
        "\n",
        "def horizontal_stroke(downness):\n",
        "    \"\"\"\n",
        "    Analogue to vertical_stroke, but it returns horizontal strokes.\n",
        "    `downness` is here a value in [0, 1, 2].\n",
        "    \"\"\"\n",
        "    i = (downness * (CELL_LENGTH + 1)) + 1\n",
        "    x = np.zeros(shape=(IMAGE_WIDTH, IMAGE_HEIGHT), dtype=np.float64)\n",
        "    x[i, 2 + np.arange(CELL_LENGTH)] = 1.\n",
        "    return x\n",
        "\n",
        "show_as_image(horizontal_stroke(0))"
      ],
      "execution_count": 234,
      "outputs": [
        {
          "output_type": "display_data",
          "data": {
            "image/png": "[encoded data removed]",
            "text/plain": [
              "<Figure size 720x360 with 1 Axes>"
            ]
          },
          "metadata": {
            "tags": []
          }
        }
      ]
    },
    {
      "cell_type": "code",
      "metadata": {
        "id": "24evdeOEYygG",
        "colab_type": "code",
        "colab": {
          "base_uri": "https://localhost:8080/",
          "height": 524
        },
        "outputId": "84c0f15c-c347-4760-fecc-a775845ed74d"
      },
      "source": [
        "BASE_STROKES = np.asarray( [horizontal_stroke(k) for k in range(3)] + [vertical_stroke(k, l) for k in range(2) for l in range(2)])\n",
        "\n",
        "DIGITS_STROKES = np.array([[0, 2, 3, 4, 5, 6], [5, 6], [0, 1, 2, 4, 5], [0, 1, 2, 5, 6], [1, 3, 5, 6], [0, 1, 2, 3, 6], [0, 1, 2, 3, 4, 6], [0, 5, 6], np.arange(7), [0, 1, 2, 3, 5, 6]])\n",
        "\n",
        "def random_digits(strokes=BASE_STROKES, digit_as_strokes=DIGITS_STROKES, fixed_label=None):\n",
        "    label = fixed_label if fixed_label is not None else np.random.choice(len(digit_as_strokes))\n",
        "    combined_strokes = strokes[digit_as_strokes[label], :, :].sum(axis=0)\n",
        "    return combined_strokes, label\n",
        "\n",
        "def batch_images_to_one(batches_images):\n",
        "    n_square_elements = int(np.sqrt(batches_images.shape[0]))\n",
        "    rows_images = np.split(np.squeeze(batches_images), n_square_elements)\n",
        "    return np.vstack([np.hstack(row_images) for row_images in rows_images])\n",
        "\n",
        "\n",
        "show_as_image(batch_images_to_one(np.stack([random_digits()[0] for _ in range(25)])), figsize=(9, 9))"
      ],
      "execution_count": 235,
      "outputs": [
        {
          "output_type": "display_data",
          "data": {
            "image/png": "[encoded data removed]",
            "text/plain": [
              "<Figure size 648x648 with 1 Axes>"
            ]
          },
          "metadata": {
            "tags": []
          }
        }
      ]
    },
    {
      "cell_type": "code",
      "metadata": {
        "id": "x2W1D5VsZM71",
        "colab_type": "code",
        "colab": {}
      },
      "source": [
        "from torch.utils.data import Dataset, DataLoader\n",
        "\n",
        "\n",
        "class LcdDigits(Dataset):\n",
        "\n",
        "    def __init__(self, n_examples):\n",
        "        digits, labels = zip(*[random_digits() for _ in range(n_examples)])\n",
        "        self.digits = np.asarray(digits, dtype=np.float64)\n",
        "        self.labels = np.asarray(labels)\n",
        "    \n",
        "    def __len__(self):\n",
        "        return len(self.labels)\n",
        "    \n",
        "    def __getitem__(self, idx):\n",
        "        digit_with_channel = self.digits[idx][np.newaxis, :, :]\n",
        "        return torch.from_numpy(digit_with_channel).float(), torch.from_numpy(np.array([self.labels[idx]]))\n"
      ],
      "execution_count": 0,
      "outputs": []
    },
    {
      "cell_type": "code",
      "metadata": {
        "id": "JBjPs2y5bG24",
        "colab_type": "code",
        "colab": {
          "base_uri": "https://localhost:8080/",
          "height": 451
        },
        "outputId": "9eaf7610-b933-457b-995c-eed20f2efb5e"
      },
      "source": [
        "\n",
        "import torch.nn.functional as F\n",
        "N_EPOCHS = 25\n",
        "BATCH_SIZE = 128\n",
        "LR = 1e-3\n",
        "\n",
        "cnn = PixelCNN()\n",
        "optimizer = torch.optim.Adam(cnn.parameters(), lr=LR)\n",
        "\n",
        "train_dataset = LcdDigits(BATCH_SIZE * 50)\n",
        "train_loader = DataLoader(train_dataset, batch_size=BATCH_SIZE)\n",
        "\n",
        "for epoch in range(N_EPOCHS):\n",
        "    for i, (images, _) in enumerate(train_loader):\n",
        "        images = Variable(images)\n",
        "        optimizer.zero_grad()\n",
        "        loss = F.cross_entropy(input=cnn(images), target=torch.squeeze(images).long())\n",
        "        loss.backward()\n",
        "        optimizer.step()\n",
        "        \n",
        "        if i % 200 == 0:\n",
        "            print ('Epoch [%d/%d], Loss: %.4f' %(epoch+1, N_EPOCHS, loss.item()))"
      ],
      "execution_count": 237,
      "outputs": [
        {
          "output_type": "stream",
          "text": [
            "Epoch [1/25], Loss: 0.6009\n",
            "Epoch [2/25], Loss: 0.1710\n",
            "Epoch [3/25], Loss: 0.0790\n",
            "Epoch [4/25], Loss: 0.0514\n",
            "Epoch [5/25], Loss: 0.0407\n",
            "Epoch [6/25], Loss: 0.0353\n",
            "Epoch [7/25], Loss: 0.0322\n",
            "Epoch [8/25], Loss: 0.0302\n",
            "Epoch [9/25], Loss: 0.0286\n",
            "Epoch [10/25], Loss: 0.0276\n",
            "Epoch [11/25], Loss: 0.0269\n",
            "Epoch [12/25], Loss: 0.0263\n",
            "Epoch [13/25], Loss: 0.0259\n",
            "Epoch [14/25], Loss: 0.0256\n",
            "Epoch [15/25], Loss: 0.0252\n",
            "Epoch [16/25], Loss: 0.0251\n",
            "Epoch [17/25], Loss: 0.0249\n",
            "Epoch [18/25], Loss: 0.0248\n",
            "Epoch [19/25], Loss: 0.0246\n",
            "Epoch [20/25], Loss: 0.0244\n",
            "Epoch [21/25], Loss: 0.0244\n",
            "Epoch [22/25], Loss: 0.0243\n",
            "Epoch [23/25], Loss: 0.0243\n",
            "Epoch [24/25], Loss: 0.0241\n",
            "Epoch [25/25], Loss: 0.0241\n"
          ],
          "name": "stdout"
        }
      ]
    },
    {
      "cell_type": "code",
      "metadata": {
        "id": "8ypTUE3RbNZE",
        "colab_type": "code",
        "colab": {
          "base_uri": "https://localhost:8080/",
          "height": 559
        },
        "outputId": "14f9b81d-d28a-4ac7-de34-44a23d5b9c8b"
      },
      "source": [
        "def generate_samples(n_samples, starting_point=(0, 0), starting_image=None):\n",
        "    samples = torch.from_numpy(starting_image if starting_image is not None else np.zeros((n_samples*n_samples, 1, IMAGE_WIDTH, IMAGE_HEIGHT))).float()\n",
        "    \n",
        "    cnn.eval()\n",
        "    with torch.no_grad():\n",
        "        for i in range(IMAGE_WIDTH):\n",
        "            for j in range(IMAGE_HEIGHT):\n",
        "                if i < starting_point[0] or (i == starting_point[0] and j < starting_point[1]):\n",
        "                    continue\n",
        "                out = cnn(samples)\n",
        "                probs = F.softmax(out[:, :, i, j]).data\n",
        "                val = torch.multinomial(probs, 1).float()  \n",
        "                samples[:, :, i, j] = val\n",
        "                # print(val, end=', ')\n",
        "        return samples.numpy()\n",
        "\n",
        "generated = generate_samples(n_samples=3)\n",
        "show_as_image(batch_images_to_one(generated ),figsize=(15,9))"
      ],
      "execution_count": 231,
      "outputs": [
        {
          "output_type": "stream",
          "text": [
            "/usr/local/lib/python3.6/dist-packages/ipykernel_launcher.py:11: UserWarning: Implicit dimension choice for softmax has been deprecated. Change the call to include dim=X as an argument.\n",
            "  # This is added back by InteractiveShellApp.init_path()\n"
          ],
          "name": "stderr"
        },
        {
          "output_type": "display_data",
          "data": {
            "image/png": "[encoded data removed]",
            "text/plain": [
              "<Figure size 1080x648 with 1 Axes>"
            ]
          },
          "metadata": {
            "tags": []
          }
        }
      ]
    },
    {
      "cell_type": "code",
      "metadata": {
        "id": "4spGbrbAcYuJ",
        "colab_type": "code",
        "colab": {
          "base_uri": "https://localhost:8080/",
          "height": 767
        },
        "outputId": "ac8da075-44a0-4a3c-cc26-44c92f3d7f51"
      },
      "source": [
        "n_images = 2\n",
        "starting_point = (2, 2)\n",
        "\n",
        "mask = causal_mask(IMAGE_WIDTH, IMAGE_HEIGHT, starting_point)\n",
        "\n",
        "starting_images = digits_list = [random_digits(fixed_label=d)[0] for d in range(4)]\n",
        "batch_starting_images = np.expand_dims(np.stack([i * mask for i in starting_images] * n_images), axis=1)\n",
        "\n",
        "samples = generate_samples(n_images, starting_image=batch_starting_images, starting_point=starting_point)\n",
        "\n",
        "show_as_image(np.hstack([(1 + mask) * i for i in starting_images]), figsize=(10, 10))\n",
        "\n",
        "show_as_image(\n",
        "    batch_images_to_one((samples * (1 + mask))),\n",
        "    figsize=(10, 20))"
      ],
      "execution_count": 232,
      "outputs": [
        {
          "output_type": "stream",
          "text": [
            "/usr/local/lib/python3.6/dist-packages/ipykernel_launcher.py:11: UserWarning: Implicit dimension choice for softmax has been deprecated. Change the call to include dim=X as an argument.\n",
            "  # This is added back by InteractiveShellApp.init_path()\n"
          ],
          "name": "stderr"
        },
        {
          "output_type": "display_data",
          "data": {
            "image/png": "[encoded data removed]",
            "text/plain": [
              "<Figure size 720x720 with 1 Axes>"
            ]
          },
          "metadata": {
            "tags": []
          }
        },
        {
          "output_type": "display_data",
          "data": {
            "image/png": "[encoded data removed]",
            "text/plain": [
              "<Figure size 720x1440 with 1 Axes>"
            ]
          },
          "metadata": {
            "tags": []
          }
        }
      ]
    },
    {
      "cell_type": "code",
      "metadata": {
        "id": "KQHrXfSYpmRc",
        "colab_type": "code",
        "colab": {}
      },
      "source": [
        ""
      ],
      "execution_count": 0,
      "outputs": []
    }
  ]
}